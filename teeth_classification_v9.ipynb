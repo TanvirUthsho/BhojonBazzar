{
  "cells": [
    {
      "cell_type": "markdown",
      "metadata": {
        "id": "view-in-github",
        "colab_type": "text"
      },
      "source": [
        "<a href=\"https://colab.research.google.com/github/TanvirUthsho/BhojonBazzar/blob/main/teeth_classification_v9.ipynb\" target=\"_parent\"><img src=\"https://colab.research.google.com/assets/colab-badge.svg\" alt=\"Open In Colab\"/></a>"
      ]
    },
    {
      "cell_type": "markdown",
      "metadata": {
        "id": "u-5EAZWafvsX"
      },
      "source": [
        "# Import all dependencies"
      ]
    },
    {
      "cell_type": "code",
      "execution_count": null,
      "metadata": {
        "id": "evIXeZNFf0hj"
      },
      "outputs": [],
      "source": [
        "import tensorflow as tf\n",
        "from tensorflow.keras.preprocessing import image_dataset_from_directory\n",
        "from tensorflow.keras import layers, models\n",
        "import matplotlib.pyplot as plt"
      ]
    },
    {
      "cell_type": "markdown",
      "metadata": {
        "id": "Kn9F7OyOf2-A"
      },
      "source": [
        "# Load Dataset"
      ]
    },
    {
      "cell_type": "code",
      "execution_count": null,
      "metadata": {
        "colab": {
          "base_uri": "https://localhost:8080/"
        },
        "id": "ojEdtL1cgVlZ",
        "outputId": "9acb86ae-6dff-49f2-b6ba-941e95e79b10"
      },
      "outputs": [
        {
          "output_type": "stream",
          "name": "stdout",
          "text": [
            "Mounted at /content/drive\n"
          ]
        }
      ],
      "source": [
        "#connect google drive\n",
        "\n",
        "from google.colab import drive\n",
        "drive.mount('/content/drive')\n"
      ]
    },
    {
      "cell_type": "code",
      "execution_count": null,
      "metadata": {
        "colab": {
          "base_uri": "https://localhost:8080/"
        },
        "id": "rJ5-eE7Sf5ba",
        "outputId": "70a19a1f-c4e5-4808-d65e-87a02f6a1868"
      },
      "outputs": [
        {
          "output_type": "stream",
          "name": "stdout",
          "text": [
            "['Lower Front', 'Lower Left', 'Lower Occlusal', 'Lower Right', 'Upper Front', 'Upper Left', 'Upper Occlusal', 'Upper Right']\n",
            "Found 7646 files belonging to 8 classes.\n",
            "Found 956 files belonging to 8 classes.\n",
            "Found 960 files belonging to 8 classes.\n"
          ]
        }
      ],
      "source": [
        "# Paths to your training, validation, and test datasets\n",
        "train_dir = '/content/drive/MyDrive/Colab Notebooks/dataset/Mendeley dataset 19.4.2024/Split Data/train'\n",
        "val_dir = '/content/drive/MyDrive/Colab Notebooks/dataset/Mendeley dataset 19.4.2024/Split Data/validation'\n",
        "test_dir = '/content/drive/MyDrive/Colab Notebooks/dataset/Mendeley dataset 19.4.2024/Split Data/test'\n",
        "\n",
        "import os\n",
        "import tensorflow as tf\n",
        "from tensorflow.keras.utils import image_dataset_from_directory\n",
        "\n",
        "\n",
        "# Get class names directly from directory structure\n",
        "class_names = sorted(os.listdir(train_dir))\n",
        "\n",
        "# Remove any hidden files or folders (starting with '.')\n",
        "class_names = [name for name in class_names if not name.startswith('.')]\n",
        "\n",
        "print(class_names)\n",
        "# Parameters\n",
        "batch_size = 32\n",
        "img_size = (224, 224)  # Resize all images to 224x224 (or adjust according to your needs)\n",
        "\n",
        "# Load the datasets\n",
        "train_dataset = image_dataset_from_directory(train_dir,\n",
        "                                             shuffle=True,\n",
        "                                             batch_size=batch_size,\n",
        "                                             image_size=img_size)\n",
        "\n",
        "val_dataset = image_dataset_from_directory(val_dir,\n",
        "                                           shuffle=True,\n",
        "                                           batch_size=batch_size,\n",
        "                                           image_size=img_size)\n",
        "\n",
        "test_dataset = image_dataset_from_directory(test_dir,\n",
        "                                            shuffle=True,\n",
        "                                            batch_size=batch_size,\n",
        "                                            image_size=img_size)\n",
        "\n",
        "# Prefetching for performance optimization\n",
        "AUTOTUNE = tf.data.AUTOTUNE\n",
        "train_dataset = train_dataset.prefetch(buffer_size=AUTOTUNE)\n",
        "val_dataset = val_dataset.prefetch(buffer_size=AUTOTUNE)\n",
        "test_dataset = test_dataset.prefetch(buffer_size=AUTOTUNE)"
      ]
    },
    {
      "cell_type": "code",
      "source": [
        "from google.colab import drive\n",
        "drive.mount('/content/drive')"
      ],
      "metadata": {
        "id": "-MkGJkRI2ahV",
        "outputId": "4e8850a0-4c63-4423-8c80-cf7cbd6f9cdf",
        "colab": {
          "base_uri": "https://localhost:8080/"
        }
      },
      "execution_count": 1,
      "outputs": [
        {
          "output_type": "stream",
          "name": "stdout",
          "text": [
            "Mounted at /content/drive\n"
          ]
        }
      ]
    },
    {
      "cell_type": "markdown",
      "metadata": {
        "id": "RMasnwhfgB1U"
      },
      "source": [
        "# Pre-process dataset"
      ]
    },
    {
      "cell_type": "code",
      "execution_count": null,
      "metadata": {
        "id": "jG6qSipvjvZX"
      },
      "outputs": [],
      "source": [
        "standardization_layer = layers.Rescaling(scale=1./127.5, offset=-1)  # Scale to [-1, 1] range"
      ]
    },
    {
      "cell_type": "markdown",
      "metadata": {
        "id": "naDJt4TjgTEl"
      },
      "source": [
        "#Build Model"
      ]
    },
    {
      "cell_type": "code",
      "execution_count": null,
      "metadata": {
        "id": "KbBNDclYhyxJ",
        "colab": {
          "base_uri": "https://localhost:8080/"
        },
        "outputId": "4f7f68e7-1a38-40d9-93c9-62077ffe99b9"
      },
      "outputs": [
        {
          "output_type": "stream",
          "name": "stderr",
          "text": [
            "/usr/local/lib/python3.10/dist-packages/keras/src/layers/preprocessing/tf_data_layer.py:19: UserWarning: Do not pass an `input_shape`/`input_dim` argument to a layer. When using Sequential models, prefer using an `Input(shape)` object as the first layer in the model instead.\n",
            "  super().__init__(**kwargs)\n"
          ]
        }
      ],
      "source": [
        "from tensorflow.keras.applications import MobileNetV2\n",
        "from tensorflow.keras import layers, models\n",
        "\n",
        "# Model with L2 regularization\n",
        "model = models.Sequential([\n",
        "    layers.Rescaling(1./255, input_shape=(224, 224, 3)),\n",
        "    layers.Conv2D(32, (3, 3), activation='relu', kernel_regularizer=tf.keras.regularizers.l2(0.001)),\n",
        "    layers.MaxPooling2D(2, 2),\n",
        "\n",
        "    layers.Conv2D(64, (3, 3), activation='relu', kernel_regularizer=tf.keras.regularizers.l2(0.001)),\n",
        "    layers.MaxPooling2D(2, 2),\n",
        "\n",
        "    layers.Conv2D(128, (3, 3), activation='relu', kernel_regularizer=tf.keras.regularizers.l2(0.001)),\n",
        "    layers.MaxPooling2D(2, 2),\n",
        "\n",
        "    layers.Flatten(),\n",
        "    layers.Dropout(0.5),\n",
        "    layers.Dense(128, activation='relu', kernel_regularizer=tf.keras.regularizers.l2(0.001)),\n",
        "    layers.Dense(len(class_names), activation='softmax')\n",
        "])\n",
        "\n",
        "# Compile\n",
        "model.compile(optimizer='adam', loss='sparse_categorical_crossentropy', metrics=['accuracy'])\n"
      ]
    },
    {
      "cell_type": "markdown",
      "metadata": {
        "id": "OH-lu2CL8L31"
      },
      "source": [
        "# Training the Model"
      ]
    },
    {
      "cell_type": "code",
      "execution_count": null,
      "metadata": {
        "colab": {
          "base_uri": "https://localhost:8080/"
        },
        "id": "XsNFWeUBg9D6",
        "outputId": "04c8fa5c-3d5b-499b-fb0c-836351467360"
      },
      "outputs": [
        {
          "output_type": "stream",
          "name": "stdout",
          "text": [
            "Epoch 1/50\n",
            "\u001b[1m239/239\u001b[0m \u001b[32m━━━━━━━━━━━━━━━━━━━━\u001b[0m\u001b[37m\u001b[0m \u001b[1m1356s\u001b[0m 6s/step - accuracy: 0.6922 - loss: 1.2386 - val_accuracy: 0.9592 - val_loss: 0.4227\n",
            "Epoch 2/50\n",
            "\u001b[1m239/239\u001b[0m \u001b[32m━━━━━━━━━━━━━━━━━━━━\u001b[0m\u001b[37m\u001b[0m \u001b[1m106s\u001b[0m 241ms/step - accuracy: 0.9463 - loss: 0.3991 - val_accuracy: 0.9592 - val_loss: 0.3583\n",
            "Epoch 3/50\n",
            "\u001b[1m239/239\u001b[0m \u001b[32m━━━━━━━━━━━━━━━━━━━━\u001b[0m\u001b[37m\u001b[0m \u001b[1m65s\u001b[0m 270ms/step - accuracy: 0.9605 - loss: 0.3412 - val_accuracy: 0.9718 - val_loss: 0.3331\n",
            "Epoch 4/50\n",
            "\u001b[1m239/239\u001b[0m \u001b[32m━━━━━━━━━━━━━━━━━━━━\u001b[0m\u001b[37m\u001b[0m \u001b[1m80s\u001b[0m 263ms/step - accuracy: 0.9642 - loss: 0.3290 - val_accuracy: 0.9749 - val_loss: 0.3205\n",
            "Epoch 5/50\n",
            "\u001b[1m239/239\u001b[0m \u001b[32m━━━━━━━━━━━━━━━━━━━━\u001b[0m\u001b[37m\u001b[0m \u001b[1m76s\u001b[0m 239ms/step - accuracy: 0.9729 - loss: 0.2890 - val_accuracy: 0.9686 - val_loss: 0.3326\n",
            "Epoch 6/50\n",
            "\u001b[1m239/239\u001b[0m \u001b[32m━━━━━━━━━━━━━━━━━━━━\u001b[0m\u001b[37m\u001b[0m \u001b[1m87s\u001b[0m 261ms/step - accuracy: 0.9770 - loss: 0.2737 - val_accuracy: 0.9738 - val_loss: 0.3146\n",
            "Epoch 7/50\n",
            "\u001b[1m239/239\u001b[0m \u001b[32m━━━━━━━━━━━━━━━━━━━━\u001b[0m\u001b[37m\u001b[0m \u001b[1m81s\u001b[0m 259ms/step - accuracy: 0.9761 - loss: 0.2775 - val_accuracy: 0.9634 - val_loss: 0.3245\n",
            "Epoch 8/50\n",
            "\u001b[1m239/239\u001b[0m \u001b[32m━━━━━━━━━━━━━━━━━━━━\u001b[0m\u001b[37m\u001b[0m \u001b[1m80s\u001b[0m 249ms/step - accuracy: 0.9732 - loss: 0.2841 - val_accuracy: 0.9686 - val_loss: 0.3459\n",
            "Epoch 9/50\n",
            "\u001b[1m239/239\u001b[0m \u001b[32m━━━━━━━━━━━━━━━━━━━━\u001b[0m\u001b[37m\u001b[0m \u001b[1m83s\u001b[0m 256ms/step - accuracy: 0.9796 - loss: 0.2670 - val_accuracy: 0.9749 - val_loss: 0.2895\n",
            "Epoch 10/50\n",
            "\u001b[1m239/239\u001b[0m \u001b[32m━━━━━━━━━━━━━━━━━━━━\u001b[0m\u001b[37m\u001b[0m \u001b[1m80s\u001b[0m 247ms/step - accuracy: 0.9854 - loss: 0.2323 - val_accuracy: 0.9780 - val_loss: 0.2847\n",
            "Epoch 11/50\n",
            "\u001b[1m239/239\u001b[0m \u001b[32m━━━━━━━━━━━━━━━━━━━━\u001b[0m\u001b[37m\u001b[0m \u001b[1m85s\u001b[0m 260ms/step - accuracy: 0.9858 - loss: 0.2286 - val_accuracy: 0.9707 - val_loss: 0.3197\n",
            "Epoch 12/50\n",
            "\u001b[1m239/239\u001b[0m \u001b[32m━━━━━━━━━━━━━━━━━━━━\u001b[0m\u001b[37m\u001b[0m \u001b[1m77s\u001b[0m 241ms/step - accuracy: 0.9790 - loss: 0.2514 - val_accuracy: 0.9728 - val_loss: 0.3067\n",
            "Epoch 13/50\n",
            "\u001b[1m239/239\u001b[0m \u001b[32m━━━━━━━━━━━━━━━━━━━━\u001b[0m\u001b[37m\u001b[0m \u001b[1m57s\u001b[0m 238ms/step - accuracy: 0.9851 - loss: 0.2271 - val_accuracy: 0.9655 - val_loss: 0.2871\n"
          ]
        }
      ],
      "source": [
        "# Early stopping callback\n",
        "early_stopping = tf.keras.callbacks.EarlyStopping(monitor='val_loss', patience=3, restore_best_weights=True)\n",
        "\n",
        "# Train with early stopping\n",
        "history = model.fit(train_dataset, validation_data=val_dataset, epochs=50, callbacks=[early_stopping])\n",
        "\n"
      ]
    },
    {
      "cell_type": "markdown",
      "metadata": {
        "id": "_iJuBYcPhBx7"
      },
      "source": [
        "#Evaulate the Model"
      ]
    },
    {
      "cell_type": "code",
      "execution_count": null,
      "metadata": {
        "id": "b0QXRGukhEZj",
        "colab": {
          "base_uri": "https://localhost:8080/",
          "height": 426
        },
        "outputId": "de21d37a-6071-41d2-cb4b-0f097f8f833a"
      },
      "outputs": [
        {
          "output_type": "stream",
          "name": "stdout",
          "text": [
            "\u001b[1m30/30\u001b[0m \u001b[32m━━━━━━━━━━━━━━━━━━━━\u001b[0m\u001b[37m\u001b[0m \u001b[1m7s\u001b[0m 226ms/step - accuracy: 0.9729 - loss: 0.3019\n",
            "Test accuracy: 0.9750000238418579\n"
          ]
        },
        {
          "output_type": "display_data",
          "data": {
            "text/plain": [
              "<Figure size 1200x400 with 2 Axes>"
            ],
            "image/png": "[encoded data removed]"
          },
          "metadata": {}
        }
      ],
      "source": [
        "# Evaluate on the test set\n",
        "test_loss, test_acc = model.evaluate(test_dataset)\n",
        "print(f\"Test accuracy: {test_acc}\")\n",
        "\n",
        "# Plot training & validation accuracy and loss\n",
        "acc = history.history['accuracy']\n",
        "val_acc = history.history['val_accuracy']\n",
        "loss = history.history['loss']\n",
        "val_loss = history.history['val_loss']\n",
        "epochs = 13\n",
        "epochs_range = range(epochs)\n",
        "\n",
        "plt.figure(figsize=(12, 4))\n",
        "plt.subplot(1, 2, 1)\n",
        "plt.plot(epochs_range, acc, label='Training Accuracy')\n",
        "plt.plot(epochs_range, val_acc, label='Validation Accuracy')\n",
        "plt.legend(loc='lower right')\n",
        "plt.title('Training and Validation Accuracy')\n",
        "\n",
        "plt.subplot(1, 2, 2)\n",
        "plt.plot(epochs_range, loss, label='Training Loss')\n",
        "plt.plot(epochs_range, val_loss, label='Validation Loss')\n",
        "plt.legend(loc='upper right')\n",
        "plt.title('Training and Validation Loss')\n",
        "\n",
        "plt.show()\n",
        "\n",
        "# Save the trained model\n",
        "model.save('/content/drive/MyDrive/Colab Notebooks/dataset/teeth_classification_model_8.keras')  # Change the path as necessary\n"
      ]
    },
    {
      "cell_type": "markdown",
      "metadata": {
        "id": "ZWxnuMZZEMO0"
      },
      "source": [
        "# Predict an image"
      ]
    },
    {
      "cell_type": "code",
      "execution_count": null,
      "metadata": {
        "id": "k0FkzfP7nFFI",
        "colab": {
          "base_uri": "https://localhost:8080/"
        },
        "outputId": "14077308-0539-432d-8a75-9559e3335d10"
      },
      "outputs": [
        {
          "output_type": "stream",
          "name": "stdout",
          "text": [
            "\u001b[1m1/1\u001b[0m \u001b[32m━━━━━━━━━━━━━━━━━━━━\u001b[0m\u001b[37m\u001b[0m \u001b[1m0s\u001b[0m 30ms/step\n",
            "Predicted class: Upper Occlusal\n"
          ]
        }
      ],
      "source": [
        "# Load the saved model\n",
        "#loaded_model = tf.keras.models.load_model('/content/drive/MyDrive/Colab Notebooks/dataset/teeth_classification_model_8.keras')\n",
        "\n",
        "# Predict on a new image\n",
        "from tensorflow.keras.preprocessing import image\n",
        "import numpy as np\n",
        "\n",
        "# Load an image from the test set and preprocess it\n",
        "img_path = '/content/drive/MyDrive/Colab Notebooks/dataset/Mendeley dataset 19.4.2024/Split Data/test/Lower Right/LR 0002.jpg'  # Provide the correct path to the image\n",
        "img = image.load_img(img_path, target_size=(224, 224))  # Ensure size matches the model's input\n",
        "img_array = image.img_to_array(img)\n",
        "img_array = np.expand_dims(img_array, axis=0)  # Add batch dimension\n",
        "img_array /= 255.0  # Normalize the image to [0,1] range\n",
        "\n",
        "# Get predictions\n",
        "predictions = model.predict(img_array)\n",
        "predicted_class = np.argmax(predictions)  # Get the class index with the highest probability\n",
        "\n",
        "# Display predicted class name\n",
        "print(f'Predicted class: {class_names[predicted_class]}')\n"
      ]
    },
    {
      "cell_type": "code",
      "execution_count": null,
      "metadata": {
        "id": "644aC4SRzH1I",
        "colab": {
          "base_uri": "https://localhost:8080/"
        },
        "outputId": "2456d362-ae72-40ec-93c0-ef55fd7667e2"
      },
      "outputs": [
        {
          "output_type": "stream",
          "name": "stdout",
          "text": [
            "Final Training Accuracy: 0.9850902557373047\n",
            "Final Validation Accuracy: 0.965481162071228\n",
            "Final Training Loss: 0.2214083969593048\n",
            "Final Validation Loss: 0.28711605072021484\n",
            "\u001b[1m30/30\u001b[0m \u001b[32m━━━━━━━━━━━━━━━━━━━━\u001b[0m\u001b[37m\u001b[0m \u001b[1m5s\u001b[0m 182ms/step - accuracy: 0.9724 - loss: 0.3190\n",
            "Test Loss: 0.2897886037826538\n",
            "Test Accuracy: 0.9750000238418579\n"
          ]
        }
      ],
      "source": [
        "acc = history.history['accuracy']\n",
        "val_acc = history.history['val_accuracy']\n",
        "loss = history.history['loss']\n",
        "val_loss = history.history['val_loss']\n",
        "\n",
        "print(f\"Final Training Accuracy: {acc[-1]}\")\n",
        "print(f\"Final Validation Accuracy: {val_acc[-1]}\")\n",
        "print(f\"Final Training Loss: {loss[-1]}\")\n",
        "print(f\"Final Validation Loss: {val_loss[-1]}\")\n",
        "\n",
        "test_loss, test_acc = model.evaluate(test_dataset)\n",
        "print(f\"Test Loss: {test_loss}\")\n",
        "print(f\"Test Accuracy: {test_acc}\")"
      ]
    },
    {
      "cell_type": "code",
      "execution_count": null,
      "metadata": {
        "id": "0M83od6EzkNE"
      },
      "outputs": [],
      "source": []
    }
  ],
  "metadata": {
    "accelerator": "GPU",
    "colab": {
      "gpuType": "T4",
      "machine_shape": "hm",
      "provenance": [],
      "include_colab_link": true
    },
    "kernelspec": {
      "display_name": "Python 3",
      "name": "python3"
    },
    "language_info": {
      "name": "python"
    }
  },
  "nbformat": 4,
  "nbformat_minor": 0
}